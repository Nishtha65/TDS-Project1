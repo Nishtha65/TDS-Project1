{
  "nbformat": 4,
  "nbformat_minor": 0,
  "metadata": {
    "colab": {
      "provenance": []
    },
    "kernelspec": {
      "name": "python3",
      "display_name": "Python 3"
    },
    "language_info": {
      "name": "python"
    }
  },
  "cells": [
    {
      "cell_type": "code",
      "source": [
        "import requests\n",
        "import csv\n",
        "import pandas as pd"
      ],
      "metadata": {
        "id": "iCttx2zVwZnW"
      },
      "execution_count": 81,
      "outputs": []
    },
    {
      "cell_type": "code",
      "execution_count": null,
      "metadata": {
        "colab": {
          "base_uri": "https://localhost:8080/",
          "height": 895
        },
        "id": "7hP0OZ_PbCi5",
        "outputId": "2ff74298-be39-4956-b24c-fd10814f7aeb"
      },
      "outputs": [
        {
          "output_type": "display_data",
          "data": {
            "text/plain": [
              "<IPython.core.display.HTML object>"
            ],
            "text/html": [
              "\n",
              "     <input type=\"file\" id=\"files-a1cdab9c-3ac2-4034-a744-900183982dd3\" name=\"files[]\" multiple disabled\n",
              "        style=\"border:none\" />\n",
              "     <output id=\"result-a1cdab9c-3ac2-4034-a744-900183982dd3\">\n",
              "      Upload widget is only available when the cell has been executed in the\n",
              "      current browser session. Please rerun this cell to enable.\n",
              "      </output>\n",
              "      <script>// Copyright 2017 Google LLC\n",
              "//\n",
              "// Licensed under the Apache License, Version 2.0 (the \"License\");\n",
              "// you may not use this file except in compliance with the License.\n",
              "// You may obtain a copy of the License at\n",
              "//\n",
              "//      http://www.apache.org/licenses/LICENSE-2.0\n",
              "//\n",
              "// Unless required by applicable law or agreed to in writing, software\n",
              "// distributed under the License is distributed on an \"AS IS\" BASIS,\n",
              "// WITHOUT WARRANTIES OR CONDITIONS OF ANY KIND, either express or implied.\n",
              "// See the License for the specific language governing permissions and\n",
              "// limitations under the License.\n",
              "\n",
              "/**\n",
              " * @fileoverview Helpers for google.colab Python module.\n",
              " */\n",
              "(function(scope) {\n",
              "function span(text, styleAttributes = {}) {\n",
              "  const element = document.createElement('span');\n",
              "  element.textContent = text;\n",
              "  for (const key of Object.keys(styleAttributes)) {\n",
              "    element.style[key] = styleAttributes[key];\n",
              "  }\n",
              "  return element;\n",
              "}\n",
              "\n",
              "// Max number of bytes which will be uploaded at a time.\n",
              "const MAX_PAYLOAD_SIZE = 100 * 1024;\n",
              "\n",
              "function _uploadFiles(inputId, outputId) {\n",
              "  const steps = uploadFilesStep(inputId, outputId);\n",
              "  const outputElement = document.getElementById(outputId);\n",
              "  // Cache steps on the outputElement to make it available for the next call\n",
              "  // to uploadFilesContinue from Python.\n",
              "  outputElement.steps = steps;\n",
              "\n",
              "  return _uploadFilesContinue(outputId);\n",
              "}\n",
              "\n",
              "// This is roughly an async generator (not supported in the browser yet),\n",
              "// where there are multiple asynchronous steps and the Python side is going\n",
              "// to poll for completion of each step.\n",
              "// This uses a Promise to block the python side on completion of each step,\n",
              "// then passes the result of the previous step as the input to the next step.\n",
              "function _uploadFilesContinue(outputId) {\n",
              "  const outputElement = document.getElementById(outputId);\n",
              "  const steps = outputElement.steps;\n",
              "\n",
              "  const next = steps.next(outputElement.lastPromiseValue);\n",
              "  return Promise.resolve(next.value.promise).then((value) => {\n",
              "    // Cache the last promise value to make it available to the next\n",
              "    // step of the generator.\n",
              "    outputElement.lastPromiseValue = value;\n",
              "    return next.value.response;\n",
              "  });\n",
              "}\n",
              "\n",
              "/**\n",
              " * Generator function which is called between each async step of the upload\n",
              " * process.\n",
              " * @param {string} inputId Element ID of the input file picker element.\n",
              " * @param {string} outputId Element ID of the output display.\n",
              " * @return {!Iterable<!Object>} Iterable of next steps.\n",
              " */\n",
              "function* uploadFilesStep(inputId, outputId) {\n",
              "  const inputElement = document.getElementById(inputId);\n",
              "  inputElement.disabled = false;\n",
              "\n",
              "  const outputElement = document.getElementById(outputId);\n",
              "  outputElement.innerHTML = '';\n",
              "\n",
              "  const pickedPromise = new Promise((resolve) => {\n",
              "    inputElement.addEventListener('change', (e) => {\n",
              "      resolve(e.target.files);\n",
              "    });\n",
              "  });\n",
              "\n",
              "  const cancel = document.createElement('button');\n",
              "  inputElement.parentElement.appendChild(cancel);\n",
              "  cancel.textContent = 'Cancel upload';\n",
              "  const cancelPromise = new Promise((resolve) => {\n",
              "    cancel.onclick = () => {\n",
              "      resolve(null);\n",
              "    };\n",
              "  });\n",
              "\n",
              "  // Wait for the user to pick the files.\n",
              "  const files = yield {\n",
              "    promise: Promise.race([pickedPromise, cancelPromise]),\n",
              "    response: {\n",
              "      action: 'starting',\n",
              "    }\n",
              "  };\n",
              "\n",
              "  cancel.remove();\n",
              "\n",
              "  // Disable the input element since further picks are not allowed.\n",
              "  inputElement.disabled = true;\n",
              "\n",
              "  if (!files) {\n",
              "    return {\n",
              "      response: {\n",
              "        action: 'complete',\n",
              "      }\n",
              "    };\n",
              "  }\n",
              "\n",
              "  for (const file of files) {\n",
              "    const li = document.createElement('li');\n",
              "    li.append(span(file.name, {fontWeight: 'bold'}));\n",
              "    li.append(span(\n",
              "        `(${file.type || 'n/a'}) - ${file.size} bytes, ` +\n",
              "        `last modified: ${\n",
              "            file.lastModifiedDate ? file.lastModifiedDate.toLocaleDateString() :\n",
              "                                    'n/a'} - `));\n",
              "    const percent = span('0% done');\n",
              "    li.appendChild(percent);\n",
              "\n",
              "    outputElement.appendChild(li);\n",
              "\n",
              "    const fileDataPromise = new Promise((resolve) => {\n",
              "      const reader = new FileReader();\n",
              "      reader.onload = (e) => {\n",
              "        resolve(e.target.result);\n",
              "      };\n",
              "      reader.readAsArrayBuffer(file);\n",
              "    });\n",
              "    // Wait for the data to be ready.\n",
              "    let fileData = yield {\n",
              "      promise: fileDataPromise,\n",
              "      response: {\n",
              "        action: 'continue',\n",
              "      }\n",
              "    };\n",
              "\n",
              "    // Use a chunked sending to avoid message size limits. See b/62115660.\n",
              "    let position = 0;\n",
              "    do {\n",
              "      const length = Math.min(fileData.byteLength - position, MAX_PAYLOAD_SIZE);\n",
              "      const chunk = new Uint8Array(fileData, position, length);\n",
              "      position += length;\n",
              "\n",
              "      const base64 = btoa(String.fromCharCode.apply(null, chunk));\n",
              "      yield {\n",
              "        response: {\n",
              "          action: 'append',\n",
              "          file: file.name,\n",
              "          data: base64,\n",
              "        },\n",
              "      };\n",
              "\n",
              "      let percentDone = fileData.byteLength === 0 ?\n",
              "          100 :\n",
              "          Math.round((position / fileData.byteLength) * 100);\n",
              "      percent.textContent = `${percentDone}% done`;\n",
              "\n",
              "    } while (position < fileData.byteLength);\n",
              "  }\n",
              "\n",
              "  // All done.\n",
              "  yield {\n",
              "    response: {\n",
              "      action: 'complete',\n",
              "    }\n",
              "  };\n",
              "}\n",
              "\n",
              "scope.google = scope.google || {};\n",
              "scope.google.colab = scope.google.colab || {};\n",
              "scope.google.colab._files = {\n",
              "  _uploadFiles,\n",
              "  _uploadFilesContinue,\n",
              "};\n",
              "})(self);\n",
              "</script> "
            ]
          },
          "metadata": {}
        },
        {
          "output_type": "stream",
          "name": "stdout",
          "text": [
            "Saving users.csv to users (1).csv\n"
          ]
        },
        {
          "output_type": "display_data",
          "data": {
            "text/plain": [
              "<IPython.core.display.HTML object>"
            ],
            "text/html": [
              "\n",
              "     <input type=\"file\" id=\"files-01ed5387-158a-483a-bc7b-2aad7cce7b11\" name=\"files[]\" multiple disabled\n",
              "        style=\"border:none\" />\n",
              "     <output id=\"result-01ed5387-158a-483a-bc7b-2aad7cce7b11\">\n",
              "      Upload widget is only available when the cell has been executed in the\n",
              "      current browser session. Please rerun this cell to enable.\n",
              "      </output>\n",
              "      <script>// Copyright 2017 Google LLC\n",
              "//\n",
              "// Licensed under the Apache License, Version 2.0 (the \"License\");\n",
              "// you may not use this file except in compliance with the License.\n",
              "// You may obtain a copy of the License at\n",
              "//\n",
              "//      http://www.apache.org/licenses/LICENSE-2.0\n",
              "//\n",
              "// Unless required by applicable law or agreed to in writing, software\n",
              "// distributed under the License is distributed on an \"AS IS\" BASIS,\n",
              "// WITHOUT WARRANTIES OR CONDITIONS OF ANY KIND, either express or implied.\n",
              "// See the License for the specific language governing permissions and\n",
              "// limitations under the License.\n",
              "\n",
              "/**\n",
              " * @fileoverview Helpers for google.colab Python module.\n",
              " */\n",
              "(function(scope) {\n",
              "function span(text, styleAttributes = {}) {\n",
              "  const element = document.createElement('span');\n",
              "  element.textContent = text;\n",
              "  for (const key of Object.keys(styleAttributes)) {\n",
              "    element.style[key] = styleAttributes[key];\n",
              "  }\n",
              "  return element;\n",
              "}\n",
              "\n",
              "// Max number of bytes which will be uploaded at a time.\n",
              "const MAX_PAYLOAD_SIZE = 100 * 1024;\n",
              "\n",
              "function _uploadFiles(inputId, outputId) {\n",
              "  const steps = uploadFilesStep(inputId, outputId);\n",
              "  const outputElement = document.getElementById(outputId);\n",
              "  // Cache steps on the outputElement to make it available for the next call\n",
              "  // to uploadFilesContinue from Python.\n",
              "  outputElement.steps = steps;\n",
              "\n",
              "  return _uploadFilesContinue(outputId);\n",
              "}\n",
              "\n",
              "// This is roughly an async generator (not supported in the browser yet),\n",
              "// where there are multiple asynchronous steps and the Python side is going\n",
              "// to poll for completion of each step.\n",
              "// This uses a Promise to block the python side on completion of each step,\n",
              "// then passes the result of the previous step as the input to the next step.\n",
              "function _uploadFilesContinue(outputId) {\n",
              "  const outputElement = document.getElementById(outputId);\n",
              "  const steps = outputElement.steps;\n",
              "\n",
              "  const next = steps.next(outputElement.lastPromiseValue);\n",
              "  return Promise.resolve(next.value.promise).then((value) => {\n",
              "    // Cache the last promise value to make it available to the next\n",
              "    // step of the generator.\n",
              "    outputElement.lastPromiseValue = value;\n",
              "    return next.value.response;\n",
              "  });\n",
              "}\n",
              "\n",
              "/**\n",
              " * Generator function which is called between each async step of the upload\n",
              " * process.\n",
              " * @param {string} inputId Element ID of the input file picker element.\n",
              " * @param {string} outputId Element ID of the output display.\n",
              " * @return {!Iterable<!Object>} Iterable of next steps.\n",
              " */\n",
              "function* uploadFilesStep(inputId, outputId) {\n",
              "  const inputElement = document.getElementById(inputId);\n",
              "  inputElement.disabled = false;\n",
              "\n",
              "  const outputElement = document.getElementById(outputId);\n",
              "  outputElement.innerHTML = '';\n",
              "\n",
              "  const pickedPromise = new Promise((resolve) => {\n",
              "    inputElement.addEventListener('change', (e) => {\n",
              "      resolve(e.target.files);\n",
              "    });\n",
              "  });\n",
              "\n",
              "  const cancel = document.createElement('button');\n",
              "  inputElement.parentElement.appendChild(cancel);\n",
              "  cancel.textContent = 'Cancel upload';\n",
              "  const cancelPromise = new Promise((resolve) => {\n",
              "    cancel.onclick = () => {\n",
              "      resolve(null);\n",
              "    };\n",
              "  });\n",
              "\n",
              "  // Wait for the user to pick the files.\n",
              "  const files = yield {\n",
              "    promise: Promise.race([pickedPromise, cancelPromise]),\n",
              "    response: {\n",
              "      action: 'starting',\n",
              "    }\n",
              "  };\n",
              "\n",
              "  cancel.remove();\n",
              "\n",
              "  // Disable the input element since further picks are not allowed.\n",
              "  inputElement.disabled = true;\n",
              "\n",
              "  if (!files) {\n",
              "    return {\n",
              "      response: {\n",
              "        action: 'complete',\n",
              "      }\n",
              "    };\n",
              "  }\n",
              "\n",
              "  for (const file of files) {\n",
              "    const li = document.createElement('li');\n",
              "    li.append(span(file.name, {fontWeight: 'bold'}));\n",
              "    li.append(span(\n",
              "        `(${file.type || 'n/a'}) - ${file.size} bytes, ` +\n",
              "        `last modified: ${\n",
              "            file.lastModifiedDate ? file.lastModifiedDate.toLocaleDateString() :\n",
              "                                    'n/a'} - `));\n",
              "    const percent = span('0% done');\n",
              "    li.appendChild(percent);\n",
              "\n",
              "    outputElement.appendChild(li);\n",
              "\n",
              "    const fileDataPromise = new Promise((resolve) => {\n",
              "      const reader = new FileReader();\n",
              "      reader.onload = (e) => {\n",
              "        resolve(e.target.result);\n",
              "      };\n",
              "      reader.readAsArrayBuffer(file);\n",
              "    });\n",
              "    // Wait for the data to be ready.\n",
              "    let fileData = yield {\n",
              "      promise: fileDataPromise,\n",
              "      response: {\n",
              "        action: 'continue',\n",
              "      }\n",
              "    };\n",
              "\n",
              "    // Use a chunked sending to avoid message size limits. See b/62115660.\n",
              "    let position = 0;\n",
              "    do {\n",
              "      const length = Math.min(fileData.byteLength - position, MAX_PAYLOAD_SIZE);\n",
              "      const chunk = new Uint8Array(fileData, position, length);\n",
              "      position += length;\n",
              "\n",
              "      const base64 = btoa(String.fromCharCode.apply(null, chunk));\n",
              "      yield {\n",
              "        response: {\n",
              "          action: 'append',\n",
              "          file: file.name,\n",
              "          data: base64,\n",
              "        },\n",
              "      };\n",
              "\n",
              "      let percentDone = fileData.byteLength === 0 ?\n",
              "          100 :\n",
              "          Math.round((position / fileData.byteLength) * 100);\n",
              "      percent.textContent = `${percentDone}% done`;\n",
              "\n",
              "    } while (position < fileData.byteLength);\n",
              "  }\n",
              "\n",
              "  // All done.\n",
              "  yield {\n",
              "    response: {\n",
              "      action: 'complete',\n",
              "    }\n",
              "  };\n",
              "}\n",
              "\n",
              "scope.google = scope.google || {};\n",
              "scope.google.colab = scope.google.colab || {};\n",
              "scope.google.colab._files = {\n",
              "  _uploadFiles,\n",
              "  _uploadFilesContinue,\n",
              "};\n",
              "})(self);\n",
              "</script> "
            ]
          },
          "metadata": {}
        },
        {
          "output_type": "stream",
          "name": "stdout",
          "text": [
            "Saving repositories.csv to repositories.csv\n",
            "Users DataFrame:\n",
            "         login          name          company                    location  \\\n",
            "0  peng-zhihui            稚晖  HUAWEI RESEARCH                    Shanghai   \n",
            "1       ruanyf   Ruan YiFeng              NaN             Shanghai, China   \n",
            "2       phodal  Fengda Huang     THOUGHTWORKS  Shanghai / Hangzhou, China   \n",
            "3       liyupi         程序员鱼皮   编程学习公众号【程序员鱼皮】              China Shanghai   \n",
            "4   stormzhang    stormzhang     BOOHEE, INC.             Shanghai, China   \n",
            "\n",
            "                      email  hireable                                  bio  \\\n",
            "0  prime_zhihui@foxmail.com     False                             野生钢铁侠本侠。   \n",
            "1     yifeng.ruan@gmail.com     False                                  NaN   \n",
            "2              h@phodal.com      True                   I'm digging holes.   \n",
            "3          592789970@qq.com      True  speak less do more！前腾讯全栈开发，现科技公司创始人   \n",
            "4  stormzhang.dev@gmail.com     False                     微信公众号：stormzhang   \n",
            "\n",
            "   public_repos  followers  following            created_at  \n",
            "0            59      80658          9  2015-06-22T04:59:39Z  \n",
            "1            72      79316          0  2011-07-10T01:07:17Z  \n",
            "2           367      20056          9  2010-11-08T11:46:51Z  \n",
            "3            82      17375         29  2017-02-26T08:44:22Z  \n",
            "4             5      15880         91  2012-09-03T02:58:11Z  \n",
            "\n",
            "Repositories DataFrame:\n",
            "         login                       full_name            created_at  \\\n",
            "0  peng-zhihui  peng-zhihui/agibot_x1_hardware  2024-10-24T08:57:19Z   \n",
            "1  peng-zhihui     peng-zhihui/agibot_x1_infer  2024-10-24T05:25:27Z   \n",
            "2  peng-zhihui     peng-zhihui/agibot_x1_train  2024-10-24T05:25:33Z   \n",
            "3  peng-zhihui               peng-zhihui/AimRT  2024-09-23T10:32:35Z   \n",
            "4  peng-zhihui         peng-zhihui/Dummy-Robot  2021-10-07T11:42:58Z   \n",
            "\n",
            "   stargazers_count  watchers_count language  has_projects  has_wiki  \\\n",
            "0                48              48      NaN          True     False   \n",
            "1                20              20      NaN          True     False   \n",
            "2                23              23      NaN          True     False   \n",
            "3                71              71      NaN          True      True   \n",
            "4             12177           12177        C          True      True   \n",
            "\n",
            "  license_name  \n",
            "0          NaN  \n",
            "1        other  \n",
            "2          NaN  \n",
            "3        other  \n",
            "4          NaN  \n"
          ]
        }
      ],
      "source": [
        "from google.colab import files\n",
        "import pandas as pd\n",
        "\n",
        "# Upload the files\n",
        "uploaded = files.upload()\n",
        "uploaded = files.upload()\n",
        "\n",
        "# Assuming the files are named 'users.csv' and 'repositories.csv'\n",
        "users_df = pd.read_csv('users.csv')\n",
        "repositories_df = pd.read_csv('repositories.csv')\n",
        "\n",
        "# Display the contents of the files\n",
        "print(\"Users DataFrame:\")\n",
        "print(users_df.head())\n",
        "\n",
        "print(\"\\nRepositories DataFrame:\")\n",
        "print(repositories_df.head())\n"
      ]
    },
    {
      "cell_type": "markdown",
      "source": [
        "1. Who are the top 5 users in Shanghai with the highest number of followers? List their login in order, comma-separated."
      ],
      "metadata": {
        "id": "bCm1rV5pw_30"
      }
    },
    {
      "cell_type": "code",
      "source": [
        "#Q1\n",
        "\n",
        "# Filter for users in Shanghai and sort by followers in descending order\n",
        "shanghai_users = users_df[users_df['location'] == 'Shanghai']\n",
        "top_5_users = shanghai_users.nlargest(5, 'followers')['login']\n",
        "\n",
        "# Convert the result to a comma-separated string\n",
        "top_5_logins = ', '.join(top_5_users)\n",
        "\n",
        "print(\"Top 5 users in Shanghai with the highest followers:\")\n",
        "print(top_5_logins)\n"
      ],
      "metadata": {
        "colab": {
          "base_uri": "https://localhost:8080/"
        },
        "id": "ixXfqpwWcQA8",
        "outputId": "3f730072-9317-4e22-87e3-694a5f4470ee"
      },
      "execution_count": null,
      "outputs": [
        {
          "output_type": "stream",
          "name": "stdout",
          "text": [
            "Top 5 users in Shanghai with the highest followers:\n",
            "peng-zhihui, nihui, TommyZihao, wx-chevalier, krahets\n"
          ]
        }
      ]
    },
    {
      "cell_type": "markdown",
      "source": [
        "2. Who are the 5 earliest registered GitHub users in Shanghai? List their login in ascending order of created_at, comma-separated."
      ],
      "metadata": {
        "id": "DpCPZqEbxCeV"
      }
    },
    {
      "cell_type": "code",
      "source": [
        "#Q2\n",
        "\n",
        "import pandas as pd\n",
        "users_df = pd.read_csv('users.csv')\n",
        "shanghai_users = users_df[users_df['location'].str.contains('Shanghai', case=False, na=False)]\n",
        "# Sort by created_at in ascending order\n",
        "shanghai_users_sorted = shanghai_users.sort_values(by='created_at')\n",
        "# Get the first 5 users and their logins\n",
        "earliest_users = shanghai_users_sorted.head(5)\n",
        "# Create a comma-separated list of logins\n",
        "logins_list = ','.join(earliest_users['login'].tolist())\n",
        "print(logins_list)\n"
      ],
      "metadata": {
        "colab": {
          "base_uri": "https://localhost:8080/"
        },
        "id": "ttRPwKVvcavL",
        "outputId": "93e38a13-faa6-43f4-f57a-53dec7b6ac4b"
      },
      "execution_count": null,
      "outputs": [
        {
          "output_type": "stream",
          "name": "stdout",
          "text": [
            "osteele,mrluanma,ShiningRay,rainux,why404\n"
          ]
        }
      ]
    },
    {
      "cell_type": "markdown",
      "source": [
        "3.  What are the 3 most popular license among these users? Ignore missing licenses. List the license_name in order, comma-separated."
      ],
      "metadata": {
        "id": "0jfcH78bxEy0"
      }
    },
    {
      "cell_type": "code",
      "source": [
        "#Q3\n",
        "\n",
        "import pandas as pd\n",
        "# Load the datasets\n",
        "users_df = pd.read_csv('users.csv')\n",
        "repositories_df = pd.read_csv('repositories.csv')\n",
        "# Filter the repositories to ignore missing licenses\n",
        "valid_licenses = repositories_df[repositories_df['license_name'].notna()]\n",
        "# Count the occurrences of each license\n",
        "license_counts = valid_licenses['license_name'].value_counts()\n",
        "# Get the top 3 most popular licenses\n",
        "top_licenses = license_counts.head(3).index.tolist()\n",
        "# Prepare output as a comma-separated string\n",
        "top_licenses_output = ','.join(top_licenses)\n",
        "\n",
        "print(top_licenses_output)\n"
      ],
      "metadata": {
        "colab": {
          "base_uri": "https://localhost:8080/"
        },
        "id": "Pa_bIChbciQ4",
        "outputId": "62b84240-2bf1-49dc-8765-5ab05025e296"
      },
      "execution_count": null,
      "outputs": [
        {
          "output_type": "stream",
          "name": "stdout",
          "text": [
            "mit,apache-2.0,other\n"
          ]
        }
      ]
    },
    {
      "cell_type": "markdown",
      "source": [
        "4. Which company do the majority of these developers work at?"
      ],
      "metadata": {
        "id": "1sICJZJ_43hh"
      }
    },
    {
      "cell_type": "code",
      "source": [
        "#Q4\n",
        "\n",
        "\n",
        "df = pd.read_csv('users.csv')\n",
        "# Count occurrences of each company and get the most common one\n",
        "most_common_company = df['company'].value_counts().idxmax()\n",
        "# Print the most common company\n",
        "print(most_common_company)"
      ],
      "metadata": {
        "colab": {
          "base_uri": "https://localhost:8080/"
        },
        "id": "_L3DMT6Zcw9a",
        "outputId": "7c91c759-edd4-4b70-99df-b9f3639ff17e"
      },
      "execution_count": 83,
      "outputs": [
        {
          "output_type": "stream",
          "name": "stdout",
          "text": [
            "BYTEDANCE\n"
          ]
        }
      ]
    },
    {
      "cell_type": "markdown",
      "source": [
        "5. Which programming language is most popular among these users?"
      ],
      "metadata": {
        "id": "1aHzM0nD46zU"
      }
    },
    {
      "cell_type": "code",
      "source": [
        "#Q5\n",
        "\n",
        "\n",
        "import pandas as pd\n",
        "users_df = pd.read_csv('users.csv')\n",
        "\n",
        "# Count occurrences of each programming language and get the most common one\n",
        "most_common_language = repos_df['language'].value_counts().idxmax()\n",
        "\n",
        "# Print the most common programming language\n",
        "print(most_common_language)"
      ],
      "metadata": {
        "colab": {
          "base_uri": "https://localhost:8080/"
        },
        "id": "y6PrTgAFdDUF",
        "outputId": "03eee2d5-dc33-4ad1-dc95-6b921a47ec94"
      },
      "execution_count": 84,
      "outputs": [
        {
          "output_type": "stream",
          "name": "stdout",
          "text": [
            "JavaScript\n"
          ]
        }
      ]
    },
    {
      "cell_type": "markdown",
      "source": [
        "6. Which programming language is the second most popular among users who joined after 2020?"
      ],
      "metadata": {
        "id": "H6RT5lKK49Y2"
      }
    },
    {
      "cell_type": "code",
      "source": [
        "#Q6\n",
        "\n",
        "import pandas as pd\n",
        "\n",
        "# Assume users_df and repositories_df are already defined and loaded\n",
        "\n",
        "# Convert the 'created_at' column to datetime format\n",
        "users_df['created_at'] = pd.to_datetime(users_df['created_at'])\n",
        "\n",
        "# Filter users who joined after 2020\n",
        "recent_users = users_df[users_df['created_at'] > '2020-01-01']\n",
        "\n",
        "# Merge the recent users with repositories DataFrame\n",
        "merged_df = pd.merge(recent_users[['login']], repositories_df[['login', 'language']],\n",
        "                     left_on='login', right_on='login')\n",
        "\n",
        "# Drop missing language values and count occurrences of each language\n",
        "language_counts = merged_df['language'].dropna().value_counts()\n",
        "\n",
        "# Check if there are at least 2 different languages\n",
        "if len(language_counts) >= 2:\n",
        "    # Get the second most popular language\n",
        "    second_most_popular_language = language_counts.index[1]\n",
        "else:\n",
        "    second_most_popular_language = \"Not enough languages available\"\n",
        "\n",
        "print(\"The second most popular programming language among users who joined after 2020:\")\n",
        "print(second_most_popular_language)\n"
      ],
      "metadata": {
        "colab": {
          "base_uri": "https://localhost:8080/"
        },
        "id": "FNOJKxH1giJc",
        "outputId": "995129b1-da79-4956-9a01-748640347769"
      },
      "execution_count": null,
      "outputs": [
        {
          "output_type": "stream",
          "name": "stdout",
          "text": [
            "The second most popular programming language among users who joined after 2020:\n",
            "Python\n"
          ]
        }
      ]
    },
    {
      "cell_type": "markdown",
      "source": [
        "7. Which language has the highest average number of stars per repository?"
      ],
      "metadata": {
        "id": "_kqguWRq4_WL"
      }
    },
    {
      "cell_type": "code",
      "source": [
        "#Q7\n",
        "\n",
        "import pandas as pd\n",
        "# Group by language and calculate the average stars\n",
        "average_stars_per_language = repositories_df.groupby('language')['stargazers_count'].mean()\n",
        "\n",
        "# Identify the language with the highest average stars\n",
        "highest_avg_stars_language = average_stars_per_language.idxmax()\n",
        "highest_avg_stars_value = average_stars_per_language.max()\n",
        "\n",
        "print(f\"The programming language with the highest average number of stars per repository is: {highest_avg_stars_language} with an average of {highest_avg_stars_value:.2f} stars.\")\n"
      ],
      "metadata": {
        "colab": {
          "base_uri": "https://localhost:8080/"
        },
        "id": "y3ZjIu0vgs4z",
        "outputId": "393ae363-5346-4859-842f-aeb4a78c7dec"
      },
      "execution_count": null,
      "outputs": [
        {
          "output_type": "stream",
          "name": "stdout",
          "text": [
            "The programming language with the highest average number of stars per repository is: Rich Text Format with an average of 5217.00 stars.\n"
          ]
        }
      ]
    },
    {
      "cell_type": "markdown",
      "source": [
        "8. Let's define leader_strength as followers / (1 + following). Who are the top 5 in terms of leader_strength? List their login in order, comma-separated."
      ],
      "metadata": {
        "id": "GmXSeClx5Bi1"
      }
    },
    {
      "cell_type": "code",
      "source": [
        "#Q8\n",
        "\n",
        "import pandas as pd\n",
        "\n",
        "# Assume users_df is already defined and loaded\n",
        "\n",
        "# Calculate leader_strength\n",
        "users_df['leader_strength'] = users_df['followers'] / (1 + users_df['following'])\n",
        "\n",
        "# Sort by leader_strength in descending order and get the top 5\n",
        "top_leaders = users_df.nlargest(5, 'leader_strength')\n",
        "\n",
        "# Extract logins and create a comma-separated string\n",
        "top_leader_logins = ','.join(top_leaders['login'])\n",
        "\n",
        "print(top_leader_logins)\n"
      ],
      "metadata": {
        "colab": {
          "base_uri": "https://localhost:8080/"
        },
        "id": "B-BZztVohaFp",
        "outputId": "4b9637ed-add4-4d81-d2d7-7aa95e08994c"
      },
      "execution_count": 74,
      "outputs": [
        {
          "output_type": "stream",
          "name": "stdout",
          "text": [
            "ruanyf,peng-zhihui,espressif,vnpy,bilibili\n"
          ]
        }
      ]
    },
    {
      "cell_type": "markdown",
      "source": [
        "9. What is the correlation between the number of followers and the number of public repositories among users in Shanghai?"
      ],
      "metadata": {
        "id": "VWWB6UHy5Ee6"
      }
    },
    {
      "cell_type": "code",
      "source": [
        "#Q9\n",
        "\n",
        "import pandas as pd\n",
        "\n",
        "# Load the users dataset\n",
        "users_df = pd.read_csv('users.csv')\n",
        "\n",
        "# Filter users from Shanghai\n",
        "shanghai_users = users_df[users_df['location'].str.contains('Shanghai', case=False, na=False)]\n",
        "\n",
        "# Calculate the correlation between followers and public repositories\n",
        "correlation = shanghai_users['followers'].corr(shanghai_users['public_repos'])\n",
        "\n",
        "# Print the correlation rounded to three decimal places\n",
        "print(f\"Correlation between followers and public repositories: {correlation:.3f}\")\n",
        "\n"
      ],
      "metadata": {
        "colab": {
          "base_uri": "https://localhost:8080/"
        },
        "id": "SVo3ledThe9E",
        "outputId": "aeb332b4-333c-418a-ba7f-489fceb44372"
      },
      "execution_count": 75,
      "outputs": [
        {
          "output_type": "stream",
          "name": "stdout",
          "text": [
            "Correlation between followers and public repositories: -0.005\n"
          ]
        }
      ]
    },
    {
      "cell_type": "markdown",
      "source": [
        "10. Does creating more repos help users get more followers? Using regression, estimate how many additional followers a user gets per additional public repository."
      ],
      "metadata": {
        "id": "rySQazHx5G40"
      }
    },
    {
      "cell_type": "code",
      "source": [
        "#Q10\n",
        "\n",
        "import pandas as pd\n",
        "import statsmodels.api as sm\n",
        "users_df = pd.read_csv('users.csv')\n",
        "# Filter users from Shanghai\n",
        "shanghai_users = users_df[users_df['location'].str.contains('Shanghai', case=False, na=False)]\n",
        "\n",
        "# Prepare the data for regression\n",
        "X = shanghai_users['public_repos']  # Independent variable\n",
        "y = shanghai_users['followers']      # Dependent variable\n",
        "\n",
        "# Add a constant to the independent variable for the regression intercept\n",
        "X = sm.add_constant(X)\n",
        "\n",
        "# Perform the regression analysis\n",
        "model = sm.OLS(y, X).fit()\n",
        "\n",
        "# Get the regression results\n",
        "slope = model.params['public_repos']  # Coefficient for public_repos\n",
        "\n",
        "print(f\"Estimated additional followers per additional public repository: {slope:.3f}\")\n"
      ],
      "metadata": {
        "colab": {
          "base_uri": "https://localhost:8080/"
        },
        "id": "v7s0F2RwhnNq",
        "outputId": "4e092a5b-fe53-411e-e7d6-b127877137bf"
      },
      "execution_count": 76,
      "outputs": [
        {
          "output_type": "stream",
          "name": "stdout",
          "text": [
            "Estimated additional followers per additional public repository: -0.054\n"
          ]
        }
      ]
    },
    {
      "cell_type": "markdown",
      "source": [
        "11. Do people typically enable projects and wikis together? What is the correlation between a repo having projects enabled and having wiki enabled?"
      ],
      "metadata": {
        "id": "KGlroGpj5JJL"
      }
    },
    {
      "cell_type": "code",
      "source": [
        "#Q11\n",
        "\n",
        "import pandas as pd\n",
        "repos_df = pd.read_csv('repositories.csv')\n",
        "\n",
        "# Print unique values\n",
        "print(\"Unique values in has_projects:\", repos_df['has_projects'].unique())\n",
        "print(\"Unique values in has_wiki:\", repos_df['has_wiki'].unique())\n",
        "\n",
        "\n",
        "\n",
        "# Convert boolean columns to integers and fill NaN values\n",
        "repos_df['has_projects'] = repos_df['has_projects'].map({True: 1, False: 0}).fillna(0).astype(int)\n",
        "repos_df['has_wiki'] = repos_df['has_wiki'].map({True: 1, False: 0}).fillna(0).astype(int)\n",
        "\n",
        "# Drop rows with NaN values in the relevant columns\n",
        "repos_df = repos_df.dropna(subset=['has_projects', 'has_wiki'])\n",
        "\n",
        "# Calculate correlation\n",
        "correlation = repos_df['has_projects'].corr(repos_df['has_wiki'])\n",
        "correlation_formatted = round(correlation, 3)\n",
        "\n",
        "print(\"Correlation between projects and wiki enabled:\", correlation_formatted)\n"
      ],
      "metadata": {
        "colab": {
          "base_uri": "https://localhost:8080/"
        },
        "id": "jjNDaJ0ehpKj",
        "outputId": "53090c5c-96f0-4633-b96d-16064d2a5581"
      },
      "execution_count": 85,
      "outputs": [
        {
          "output_type": "stream",
          "name": "stdout",
          "text": [
            "Unique values in has_projects: [ True False]\n",
            "Unique values in has_wiki: [False  True]\n",
            "Correlation between projects and wiki enabled: 0.346\n"
          ]
        }
      ]
    },
    {
      "cell_type": "markdown",
      "source": [
        "12. Do hireable users follow more people than those who are not hireable?"
      ],
      "metadata": {
        "id": "j9P6r_hV5LBO"
      }
    },
    {
      "cell_type": "code",
      "source": [
        "#Q12\n",
        "\n",
        "import pandas as pd\n",
        "\n",
        "# Assume users_df is already defined and loaded\n",
        "\n",
        "# Calculate average following for hireable users\n",
        "average_following_hireable = users_df[users_df['hireable'] == True]['following'].mean()\n",
        "\n",
        "# Calculate average following for non-hireable users\n",
        "average_following_non_hireable = users_df[users_df['hireable'] == False]['following'].mean()\n",
        "\n",
        "# Calculate the difference\n",
        "average_difference = average_following_hireable - average_following_non_hireable\n",
        "\n",
        "# Format the difference to 3 decimal places\n",
        "average_difference_rounded = round(average_difference, 3)\n",
        "\n",
        "print(\"Average following per user for hireable=true minus the average following for the rest:\")\n",
        "print(average_difference_rounded)\n"
      ],
      "metadata": {
        "colab": {
          "base_uri": "https://localhost:8080/"
        },
        "id": "GYrSkOZIipyb",
        "outputId": "f2f1e6f5-5747-48e1-cab4-db7c76a4262b"
      },
      "execution_count": null,
      "outputs": [
        {
          "output_type": "stream",
          "name": "stdout",
          "text": [
            "Average following per user for hireable=true minus the average following for the rest:\n",
            "142.646\n"
          ]
        }
      ]
    },
    {
      "cell_type": "markdown",
      "source": [
        "13. Some developers write long bios. Does that help them get more followers? What's the correlation of the length of their bio (in Unicode words, split by whitespace) with followers? (Ignore people without bios)"
      ],
      "metadata": {
        "id": "rkuC7ju95M9g"
      }
    },
    {
      "cell_type": "code",
      "source": [
        "#Q13\n",
        "\n",
        "import pandas as pd\n",
        "users_df = pd.read_csv('users.csv')\n",
        "users_df['bio_length'] = users_df['bio'].apply(lambda bio: len(bio.split()) if pd.notna(bio) else 0)\n",
        "users_with_bios = users_df[users_df['bio_length'] > 0]\n",
        "correlation = users_with_bios['bio_length'].corr(users_with_bios['followers'])\n",
        "print(f\"Correlation between bio length and followers: {correlation:.3f}\")\n"
      ],
      "metadata": {
        "colab": {
          "base_uri": "https://localhost:8080/"
        },
        "id": "mucdv7uWkKcV",
        "outputId": "87ec6fb7-bc27-4583-b9ea-f69fb06b2313"
      },
      "execution_count": 93,
      "outputs": [
        {
          "output_type": "stream",
          "name": "stdout",
          "text": [
            "Correlation between bio length and followers: -0.055\n"
          ]
        }
      ]
    },
    {
      "cell_type": "markdown",
      "source": [
        "14. Who created the most repositories on weekends (UTC)? List the top 5 users' login in order, comma-separated"
      ],
      "metadata": {
        "id": "M2k5ymgS5PcH"
      }
    },
    {
      "cell_type": "code",
      "source": [
        "#Q14\n",
        "\n",
        "import pandas as pd\n",
        "repos_df = pd.read_csv('repositories.csv')\n",
        "\n",
        "# Convert created_at to datetime\n",
        "repos_df['created_at'] = pd.to_datetime(repos_df['created_at'])\n",
        "\n",
        "# Filter for weekend days (Saturday=5, Sunday=6)\n",
        "weekend_repos = repos_df[repos_df['created_at'].dt.dayofweek >= 5]\n",
        "\n",
        "# Count the number of repositories created by each user\n",
        "user_repo_counts = weekend_repos['login'].value_counts()\n",
        "\n",
        "# Get the top 5 users\n",
        "top_5_users = user_repo_counts.head(5).index.tolist()\n",
        "\n",
        "# Convert to a comma-separated string without spaces\n",
        "top_5_users_string = ','.join(top_5_users)\n",
        "\n",
        "print(top_5_users_string)\n"
      ],
      "metadata": {
        "colab": {
          "base_uri": "https://localhost:8080/"
        },
        "id": "qD4pcfvxkO8K",
        "outputId": "4bc99655-7ebb-423f-80f8-7b687420f523"
      },
      "execution_count": 88,
      "outputs": [
        {
          "output_type": "stream",
          "name": "stdout",
          "text": [
            "losfair,Ewenwan,lychees,davideuler,phodal\n"
          ]
        }
      ]
    },
    {
      "cell_type": "markdown",
      "source": [
        "15. Do people who are hireable share their email addresses more often?"
      ],
      "metadata": {
        "id": "IF1cpndX5R2p"
      }
    },
    {
      "cell_type": "code",
      "source": [
        "#Q15\n",
        "\n",
        "import pandas as pd\n",
        "\n",
        "# Assume users_df is already defined and loaded\n",
        "\n",
        "# Total number of users\n",
        "total_users = len(users_df)\n",
        "\n",
        "# Fraction of users with email when hireable is True\n",
        "hireable_with_email = users_df[users_df['hireable'] == True]['email'].notna().sum()\n",
        "fraction_hireable_with_email = hireable_with_email / len(users_df[users_df['hireable'] == True]) if len(users_df[users_df['hireable'] == True]) > 0 else 0\n",
        "\n",
        "# Fraction of users with email when hireable is False\n",
        "non_hireable_with_email = users_df[users_df['hireable'] == False]['email'].notna().sum()\n",
        "fraction_non_hireable_with_email = non_hireable_with_email / len(users_df[users_df['hireable'] == False]) if len(users_df[users_df['hireable'] == False]) > 0 else 0\n",
        "\n",
        "# Calculate the difference\n",
        "difference = fraction_hireable_with_email - fraction_non_hireable_with_email\n",
        "\n",
        "# Format the difference to 3 decimal places\n",
        "difference_rounded = round(difference, 3)\n",
        "\n",
        "print(\"Difference in fraction of users with email (hireable vs non-hireable):\")\n",
        "print(difference_rounded)\n"
      ],
      "metadata": {
        "colab": {
          "base_uri": "https://localhost:8080/"
        },
        "id": "hMMYTRiZkdxT",
        "outputId": "9feb9194-2e18-4c5d-88f7-f68e17d0573e"
      },
      "execution_count": null,
      "outputs": [
        {
          "output_type": "stream",
          "name": "stdout",
          "text": [
            "Difference in fraction of users with email (hireable vs non-hireable):\n",
            "0.074\n"
          ]
        }
      ]
    },
    {
      "cell_type": "markdown",
      "source": [
        "16. Let's assume that the last word in a user's name is their surname (ignore missing names, trim and split by whitespace.) What's the most common surname? (If there's a tie, list them all, comma-separated, alphabetically)"
      ],
      "metadata": {
        "id": "aMX014G55TZX"
      }
    },
    {
      "cell_type": "code",
      "source": [
        "#Q16\n",
        "\n",
        "import pandas as pd\n",
        "from collections import Counter\n",
        "\n",
        "users_df['surname'] = users_df['name'].str.strip().str.split().str[-1]\n",
        "\n",
        "# Count occurrences of each surname, ignoring missing names\n",
        "surname_counts = Counter(users_df['surname'].dropna())\n",
        "\n",
        "# Find the most common surname(s)\n",
        "most_common_surname_count = surname_counts.most_common()\n",
        "most_common_count = most_common_surname_count[0][1]\n",
        "\n",
        "# Get all surnames with the highest count (in case of a tie)\n",
        "most_common_surnames = [surname for surname, count in most_common_surname_count if count == most_common_count]\n",
        "\n",
        "# Sort surnames alphabetically\n",
        "most_common_surnames.sort()\n",
        "\n",
        "# Prepare output\n",
        "most_common_surnames_output = ', '.join(most_common_surnames)\n",
        "\n",
        "print(\"Most common surnames:\")\n",
        "print(most_common_surnames_output)"
      ],
      "metadata": {
        "colab": {
          "base_uri": "https://localhost:8080/"
        },
        "id": "rkg8x349kdt6",
        "outputId": "4b50bc76-495f-4a60-fd1b-5d0cac93396b"
      },
      "execution_count": null,
      "outputs": [
        {
          "output_type": "stream",
          "name": "stdout",
          "text": [
            "Most common surnames:\n",
            "Zhang\n"
          ]
        }
      ]
    }
  ]
}